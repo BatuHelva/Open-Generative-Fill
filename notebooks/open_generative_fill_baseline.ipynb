{
  "nbformat": 4,
  "nbformat_minor": 0,
  "metadata": {
    "colab": {
      "provenance": [],
      "gpuType": "T4",
      "authorship_tag": "ABX9TyOjmsPK3JcZr2KRK0J26QPK",
      "include_colab_link": true
    },
    "kernelspec": {
      "name": "python3",
      "display_name": "Python 3"
    },
    "language_info": {
      "name": "python"
    },
    "accelerator": "GPU"
  },
  "cells": [
    {
      "cell_type": "markdown",
      "metadata": {
        "id": "view-in-github",
        "colab_type": "text"
      },
      "source": [
        "<a href=\"https://colab.research.google.com/github/ritwikraha/Open-Generative-Fill/blob/main/notebooks/open_generative_fill_baseline.ipynb\" target=\"_parent\"><img src=\"https://colab.research.google.com/assets/colab-badge.svg\" alt=\"Open In Colab\"/></a>"
      ]
    },
    {
      "cell_type": "markdown",
      "source": [
        "## Setup and Installation"
      ],
      "metadata": {
        "id": "FcNpPM5ccRkG"
      }
    },
    {
      "cell_type": "code",
      "source": [
        "!pip install -qq git+https://github.com/ritwikraha/Open-Generative-Fill"
      ],
      "metadata": {
        "id": "NEq6F9edzT_a"
      },
      "execution_count": null,
      "outputs": []
    },
    {
      "cell_type": "code",
      "source": [
        "import torch\n",
        "\n",
        "from open_generative_fill import config\n",
        "from open_generative_fill.lm_models import run_lm_model\n",
        "from open_generative_fill.load_data import load_image\n",
        "from open_generative_fill.vision_models import (\n",
        "    run_caption_model,\n",
        "    run_inpainting_pipeline,\n",
        "    run_segmentaiton_pipeline,\n",
        ")"
      ],
      "metadata": {
        "id": "lTy620_dzkXZ"
      },
      "execution_count": null,
      "outputs": []
    },
    {
      "cell_type": "code",
      "source": [
        "# @title Enter values for generation\n",
        "image_url = \"https://i.imgur.com/4ujXoav.jpeg\" # @param {type:\"string\"}\n",
        "edit_prompt = \"change the bottle to a firecracker\" # @param {type:\"string\"}\n",
        "seed_value = 178334 # @param {type:\"slider\", min:0, max:999999, step:1}"
      ],
      "metadata": {
        "cellView": "form",
        "id": "8zfUODapPdv_"
      },
      "execution_count": null,
      "outputs": []
    },
    {
      "cell_type": "markdown",
      "source": [
        "## Loading the Image and Models"
      ],
      "metadata": {
        "id": "Nv3Pke0PfHpJ"
      }
    },
    {
      "cell_type": "code",
      "source": [
        "# Set the device\n",
        "device = \"cuda\" if torch.cuda.is_available() else \"cpu\"\n",
        "GENERATOR = torch.Generator().manual_seed(seed_value)\n",
        "# Load the image from the url and get the text prompt\n",
        "image = load_image(image_url=image_url, image_size=config.IMAGE_SIZE)"
      ],
      "metadata": {
        "id": "uCBmAqvDMjD1"
      },
      "execution_count": null,
      "outputs": []
    },
    {
      "cell_type": "markdown",
      "source": [
        "## Image Captioning Models"
      ],
      "metadata": {
        "id": "SYoaK_I1fvm5"
      }
    },
    {
      "cell_type": "code",
      "source": [
        "# Image captioning\n",
        "caption = run_caption_model(\n",
        "    model_id=config.CAPTION_MODEL_ID, image=image, device=device\n",
        ")\n",
        "\n",
        "print(caption)"
      ],
      "metadata": {
        "id": "Kani4XWhfglM"
      },
      "execution_count": null,
      "outputs": []
    },
    {
      "cell_type": "markdown",
      "source": [
        "## Language Model"
      ],
      "metadata": {
        "id": "gC3WKVo0fy82"
      }
    },
    {
      "cell_type": "code",
      "source": [
        "# Language model\n",
        "to_replace, replaced_caption = run_lm_model(\n",
        "    model_id=config.LANGUAGE_MODEL_ID,\n",
        "    caption=caption,\n",
        "    edit_prompt=edit_prompt,\n",
        "    device=device,\n",
        ")\n",
        "\n",
        "print(to_replace)\n",
        "print(replaced_caption)"
      ],
      "metadata": {
        "id": "ski4fQvCfjeR"
      },
      "execution_count": null,
      "outputs": []
    },
    {
      "cell_type": "markdown",
      "source": [
        "## Segmentation Model"
      ],
      "metadata": {
        "id": "60z003i7f1za"
      }
    },
    {
      "cell_type": "code",
      "source": [
        "# Segmentation pipeline\n",
        "segmentation_mask = run_segmentaiton_pipeline(\n",
        "    detection_model_id=config.DETECTION_MODEL_ID,\n",
        "    segmentation_model_id=config.SEGMENTATION_MODEL_ID,\n",
        "    to_replace=to_replace,\n",
        "    image=image,\n",
        "    device=device,\n",
        ")\n",
        "\n",
        "segmentation_mask"
      ],
      "metadata": {
        "id": "DwbDuGYifnGS"
      },
      "execution_count": null,
      "outputs": []
    },
    {
      "cell_type": "markdown",
      "source": [
        "## Inpainting Model"
      ],
      "metadata": {
        "id": "LAPXJqfif4Wc"
      }
    },
    {
      "cell_type": "code",
      "source": [
        "# Inpainting pipeline\n",
        "output = run_inpainting_pipeline(\n",
        "    inpainting_model_id=config.INPAINTING_MODEL_ID,\n",
        "    image=image,\n",
        "    mask=segmentation_mask,\n",
        "    replaced_caption=replaced_caption,\n",
        "    image_size=config.IMAGE_SIZE,\n",
        "    generator=GENERATOR,\n",
        "    device=device,\n",
        ")"
      ],
      "metadata": {
        "id": "nqs5uqwvzauG"
      },
      "execution_count": null,
      "outputs": []
    },
    {
      "cell_type": "markdown",
      "source": [
        "## Final Output"
      ],
      "metadata": {
        "id": "lahND5X2fNEL"
      }
    },
    {
      "cell_type": "code",
      "source": [
        "output"
      ],
      "metadata": {
        "id": "KmGKfijV0sXT"
      },
      "execution_count": null,
      "outputs": []
    }
  ]
}